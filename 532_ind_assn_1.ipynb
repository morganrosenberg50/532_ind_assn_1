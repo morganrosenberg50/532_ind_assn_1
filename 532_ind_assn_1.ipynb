{
 "cells": [
  {
   "cell_type": "code",
   "execution_count": 1,
   "id": "026cdf4b-2f55-44f2-a6ea-374964c575be",
   "metadata": {},
   "outputs": [],
   "source": [
    "import pandas as pd\n",
    "import altair as alt\n",
    "from dash import Dash, html, dcc, Input, Output"
   ]
  },
  {
   "cell_type": "code",
   "execution_count": 2,
   "id": "1f0f58f3-c908-43df-8d6d-3f5333deff45",
   "metadata": {},
   "outputs": [],
   "source": [
    "#data[data.columns[22]]"
   ]
  },
  {
   "cell_type": "code",
   "execution_count": null,
   "id": "e77d8833-a1ab-485b-a7ae-cb0c179d3097",
   "metadata": {},
   "outputs": [
    {
     "name": "stdout",
     "output_type": "stream",
     "text": [
      "Dash is running on http://127.0.0.1:8050/\n",
      "\n",
      " * Serving Flask app '__main__' (lazy loading)\n",
      " * Environment: production\n",
      "\u001b[31m   WARNING: This is a development server. Do not use it in a production deployment.\u001b[0m\n",
      "\u001b[2m   Use a production WSGI server instead.\u001b[0m\n",
      " * Debug mode: off\n"
     ]
    },
    {
     "name": "stderr",
     "output_type": "stream",
     "text": [
      " * Running on http://127.0.0.1:8050/ (Press CTRL+C to quit)\n",
      "127.0.0.1 - - [19/Feb/2022 10:49:47] \"GET / HTTP/1.1\" 200 -\n",
      "127.0.0.1 - - [19/Feb/2022 10:49:47] \"GET /_dash-layout HTTP/1.1\" 200 -\n",
      "127.0.0.1 - - [19/Feb/2022 10:49:47] \"GET /_dash-dependencies HTTP/1.1\" 200 -\n",
      "127.0.0.1 - - [19/Feb/2022 10:49:47] \"GET /_dash-component-suites/dash/dcc/async-slider.js HTTP/1.1\" 200 -\n",
      "127.0.0.1 - - [19/Feb/2022 10:49:48] \"POST /_dash-update-component HTTP/1.1\" 200 -\n",
      "127.0.0.1 - - [19/Feb/2022 10:49:49] \"POST /_dash-update-component HTTP/1.1\" 200 -\n",
      "127.0.0.1 - - [19/Feb/2022 10:49:50] \"POST /_dash-update-component HTTP/1.1\" 200 -\n",
      "127.0.0.1 - - [19/Feb/2022 10:49:54] \"POST /_dash-update-component HTTP/1.1\" 200 -\n"
     ]
    }
   ],
   "source": [
    "data = pd.read_csv(\"BV_QWL_.csv\")\n",
    "data_simp = pd.DataFrame({\n",
    "    'total_score': data[data.columns[0]],\n",
    "    'country': data[data.columns[3]],\n",
    "    'positive_emotion': data[data.columns[22]],\n",
    "    'engagement': data[data.columns[23]],\n",
    "    'relationships': data[data.columns[24]],\n",
    "    'meaning_purpose': data[data.columns[25]],\n",
    "    'accomplishment': data[data.columns[26]],\n",
    "    'vitality': data[data.columns[27]],\n",
    "})\n",
    "\n",
    "def plot_altair(ymax):\n",
    "    chart = alt.Chart(data_simp[data_simp['total_score'] < ymax], title = \"QWL Overview\").mark_bar().encode(\n",
    "        x = 'country:N',\n",
    "        y = 'total_score'\n",
    "    )\n",
    "    return chart.to_html()\n",
    "\n",
    "app = Dash(__name__, external_stylesheets=['https://codepen.io/chriddyp/pen/bWLwgP.css'])\n",
    "\n",
    "app.layout = html.Div([\n",
    "        html.Iframe(id='bar', \n",
    "                    srcDoc=plot_altair(ymax=20),\n",
    "                    style={'border-width': '0', 'width': '100%', 'height': '500px'}),\n",
    "        dcc.Slider(id='yslider', min=0, max=40)\n",
    "])\n",
    "\n",
    "@app.callback(\n",
    "    Output('bar', 'srcDoc'),\n",
    "    Input('yslider', 'value')\n",
    ")\n",
    "def update_output(ymax):\n",
    "    return plot_altair(ymax)\n",
    "\n",
    "if __name__ == '__main__':\n",
    "    app.run_server()#debug=True)"
   ]
  },
  {
   "cell_type": "code",
   "execution_count": null,
   "id": "68b3880a-0c2b-4437-92a1-17480503a956",
   "metadata": {},
   "outputs": [],
   "source": []
  },
  {
   "cell_type": "raw",
   "id": "6968af1b-0b5f-4e8e-8059-3209b933797d",
   "metadata": {},
   "source": []
  }
 ],
 "metadata": {
  "kernelspec": {
   "display_name": "Python [conda env:531]",
   "language": "python",
   "name": "conda-env-531-py"
  },
  "language_info": {
   "codemirror_mode": {
    "name": "ipython",
    "version": 3
   },
   "file_extension": ".py",
   "mimetype": "text/x-python",
   "name": "python",
   "nbconvert_exporter": "python",
   "pygments_lexer": "ipython3",
   "version": "3.9.7"
  }
 },
 "nbformat": 4,
 "nbformat_minor": 5
}
